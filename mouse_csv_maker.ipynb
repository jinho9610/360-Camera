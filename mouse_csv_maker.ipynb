{
 "metadata": {
  "language_info": {
   "codemirror_mode": {
    "name": "ipython",
    "version": 3
   },
   "file_extension": ".py",
   "mimetype": "text/x-python",
   "name": "python",
   "nbconvert_exporter": "python",
   "pygments_lexer": "ipython3",
   "version": "3.8.5-final"
  },
  "orig_nbformat": 2,
  "kernelspec": {
   "name": "python3",
   "display_name": "Python 3",
   "language": "python"
  }
 },
 "nbformat": 4,
 "nbformat_minor": 2,
 "cells": [
  {
   "cell_type": "code",
   "execution_count": 1,
   "metadata": {},
   "outputs": [
    {
     "output_type": "execute_result",
     "data": {
      "text/plain": [
       "12"
      ]
     },
     "metadata": {},
     "execution_count": 1
    }
   ],
   "source": [
    "import cv2\n",
    "import os\n",
    "from contrast_increaser import ct_increase1, ct_increase2, ct_increase3, ct_increase4\n",
    "\n",
    "f = open(\"dataset/mouse_info.csv\", \"w\")\n",
    "f.write('state,image\\n')"
   ]
  },
  {
   "cell_type": "code",
   "execution_count": 2,
   "metadata": {
    "tags": []
   },
   "outputs": [],
   "source": [
    "img_paths = os.listdir('mouse/opened_mouse')\n",
    "\n",
    "for img_path in img_paths:\n",
    "\n",
    "    img = cv2.imread(os.path.join('mouse/opened_mouse', img_path))\n",
    "    img = cv2.cvtColor(img, cv2.COLOR_BGR2GRAY)\n",
    "    imgs = []\n",
    "    imgs.append(ct_increase1(img))\n",
    "    imgs.append(ct_increase2(img))\n",
    "    imgs.append(ct_increase3(img))\n",
    "    imgs.append(ct_increase4(img))\n",
    "\n",
    "    for i in range(4):\n",
    "        f.write('open,')\n",
    "        tmp = []\n",
    "        for j in range(len(imgs[i])):\n",
    "            tmp += list(imgs[i][j])\n",
    "        f.write('\\\"' + str(tmp) + '\\\"\\n')"
   ]
  },
  {
   "cell_type": "code",
   "execution_count": 3,
   "metadata": {},
   "outputs": [],
   "source": [
    "img_paths = os.listdir('mouse/closed_mouse')\n",
    "\n",
    "for img_path in img_paths:\n",
    "\n",
    "    img = cv2.imread(os.path.join('mouse/closed_mouse', img_path))\n",
    "    img = cv2.cvtColor(img, cv2.COLOR_BGR2GRAY)\n",
    "    imgs = []\n",
    "    imgs.append(ct_increase1(img))\n",
    "    imgs.append(ct_increase2(img))\n",
    "    imgs.append(ct_increase3(img))\n",
    "    imgs.append(ct_increase4(img))\n",
    "\n",
    "    for i in range(4):\n",
    "        f.write('close,')\n",
    "        tmp = []\n",
    "        for j in range(len(imgs[i])):\n",
    "            tmp += list(imgs[i][j])\n",
    "        f.write('\\\"' + str(tmp) + '\\\"\\n')"
   ]
  },
  {
   "cell_type": "code",
   "execution_count": 4,
   "metadata": {},
   "outputs": [],
   "source": [
    "f.close()"
   ]
  }
 ]
}